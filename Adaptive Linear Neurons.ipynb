{
 "cells": [
  {
   "cell_type": "markdown",
   "metadata": {},
   "source": [
    "## Adaptive Linear Neurons and Conergence of Learning\n",
    "\n",
    "### Notes:\n",
    "\n",
    "*History: Adaline - **ADA**ptive **LI**near **NE**urons, was first published by Bernard Window and Todd Hoff in 1960.*\n",
    "\n",
    "*Key Idea* of Adaline: **Minimize continuous cost functions**.\n",
    "\n",
    "Main difference between *Adaline rule* and *Rosenblatt's Perceptron*:\n",
    "In Adaline - Weights are updated based on Linear activation function\n",
    "In Rosenblatt's Perceptron - updated based on Unit Step Function\n",
    "\n"
   ]
  },
  {
   "cell_type": "code",
   "execution_count": null,
   "metadata": {},
   "outputs": [],
   "source": []
  }
 ],
 "metadata": {
  "kernelspec": {
   "display_name": "Python 3",
   "language": "python",
   "name": "python3"
  },
  "language_info": {
   "codemirror_mode": {
    "name": "ipython",
    "version": 3
   },
   "file_extension": ".py",
   "mimetype": "text/x-python",
   "name": "python",
   "nbconvert_exporter": "python",
   "pygments_lexer": "ipython3",
   "version": "3.7.4"
  }
 },
 "nbformat": 4,
 "nbformat_minor": 2
}
